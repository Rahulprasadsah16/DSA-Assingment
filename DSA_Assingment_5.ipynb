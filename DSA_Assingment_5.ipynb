{
  "nbformat": 4,
  "nbformat_minor": 0,
  "metadata": {
    "colab": {
      "provenance": []
    },
    "kernelspec": {
      "name": "python3",
      "display_name": "Python 3"
    },
    "language_info": {
      "name": "python"
    }
  },
  "cells": [
    {
      "cell_type": "markdown",
      "source": [],
      "metadata": {
        "id": "9i9gqWhafooT"
      }
    },
    {
      "cell_type": "markdown",
      "source": [
        "## 1"
      ],
      "metadata": {
        "id": "Dcp0CIeKfzhs"
      }
    },
    {
      "cell_type": "code",
      "source": [
        "def convert_to_2d_array(original, m, n):\n",
        "    if len(original) != m * n:\n",
        "        return \"Invalid input. Unable to create a valid 2D array.\"\n",
        "\n",
        "    # Create an empty 2D array\n",
        "    result = [[0] * n for _ in range(m)]\n",
        "\n",
        "    # Assign elements from the original array to the 2D array\n",
        "    for i in range(len(original)):\n",
        "        row = i // n  # Integer division to determine the row index\n",
        "        col = i % n   # Modulo operation to determine the column index\n",
        "        result[row][col] = original[i]\n",
        "\n",
        "    return result\n"
      ],
      "metadata": {
        "id": "5H8H_ljff0bG"
      },
      "execution_count": 2,
      "outputs": []
    },
    {
      "cell_type": "code",
      "source": [],
      "metadata": {
        "id": "i2tjARAXgVl3"
      },
      "execution_count": null,
      "outputs": []
    },
    {
      "cell_type": "markdown",
      "source": [
        "## 2"
      ],
      "metadata": {
        "id": "kWq6dC4Fgq0n"
      }
    },
    {
      "cell_type": "code",
      "source": [
        "def build_staircase(n):\n",
        "    row = 0\n",
        "    coins_used = 0\n",
        "\n",
        "    while coins_used <= n:\n",
        "        row += 1\n",
        "        coins_used += row\n",
        "\n",
        "    return row - 1\n"
      ],
      "metadata": {
        "id": "A-7qKpERgsHj"
      },
      "execution_count": 3,
      "outputs": []
    },
    {
      "cell_type": "code",
      "source": [],
      "metadata": {
        "id": "4rKyqg-SgtQ-"
      },
      "execution_count": null,
      "outputs": []
    },
    {
      "cell_type": "markdown",
      "source": [
        "## 3"
      ],
      "metadata": {
        "id": "mfzkGzcGg8Wz"
      }
    },
    {
      "cell_type": "code",
      "source": [
        "def sorted_squares(nums):\n",
        "    result = []\n",
        "    left = 0\n",
        "    right = len(nums) - 1\n",
        "\n",
        "    while left <= right:\n",
        "        if abs(nums[left]) >= abs(nums[right]):\n",
        "            result.append(nums[left] ** 2)\n",
        "            left += 1\n",
        "        else:\n",
        "            result.append(nums[right] ** 2)\n",
        "            right -= 1\n",
        "\n",
        "    result.reverse()  # Reverse the result array to get non-decreasing order\n",
        "\n",
        "    return result\n"
      ],
      "metadata": {
        "id": "nVOAiZHhg9qK"
      },
      "execution_count": 4,
      "outputs": []
    },
    {
      "cell_type": "code",
      "source": [],
      "metadata": {
        "id": "zAIJdPkNhL_z"
      },
      "execution_count": null,
      "outputs": []
    },
    {
      "cell_type": "markdown",
      "source": [
        "## 4"
      ],
      "metadata": {
        "id": "g505xrd_hOyb"
      }
    },
    {
      "cell_type": "code",
      "source": [
        "def find_disjoint(nums1, nums2):\n",
        "    nums2_set = set(nums2)\n",
        "    result = []\n",
        "\n",
        "    for num in nums1:\n",
        "        if num not in nums2_set:\n",
        "            result.append(num)\n",
        "\n",
        "    answer = [result, []]\n",
        "    return answer\n"
      ],
      "metadata": {
        "id": "Refs-vwMhQIR"
      },
      "execution_count": 5,
      "outputs": []
    },
    {
      "cell_type": "code",
      "source": [],
      "metadata": {
        "id": "D9TmJ2_0iSg8"
      },
      "execution_count": null,
      "outputs": []
    },
    {
      "cell_type": "markdown",
      "source": [
        "## 5"
      ],
      "metadata": {
        "id": "Cc6icKFHiUPw"
      }
    },
    {
      "cell_type": "code",
      "source": [
        "def distance_value(arr1, arr2, d):\n",
        "    distance = 0\n",
        "\n",
        "    for num1 in arr1:\n",
        "        found = False\n",
        "        for num2 in arr2:\n",
        "            if abs(num1 - num2) <= d:\n",
        "                found = True\n",
        "                break\n",
        "        if not found:\n",
        "            distance += 1\n",
        "\n",
        "    return distance\n"
      ],
      "metadata": {
        "id": "afkESGkNiVtP"
      },
      "execution_count": 6,
      "outputs": []
    },
    {
      "cell_type": "code",
      "source": [],
      "metadata": {
        "id": "prj0tuQmi6vO"
      },
      "execution_count": null,
      "outputs": []
    },
    {
      "cell_type": "markdown",
      "source": [
        "## 6"
      ],
      "metadata": {
        "id": "h6vdZLJijBpU"
      }
    },
    {
      "cell_type": "code",
      "source": [
        "def find_duplicates(nums):\n",
        "    duplicates = []\n",
        "\n",
        "    for num in nums:\n",
        "        idx = abs(num) - 1\n",
        "        if nums[idx] > 0:\n",
        "            nums[idx] *= -1\n",
        "        else:\n",
        "            duplicates.append(abs(num))\n",
        "\n",
        "    return duplicates\n"
      ],
      "metadata": {
        "id": "G1rqKFrZrVAy"
      },
      "execution_count": 8,
      "outputs": []
    },
    {
      "cell_type": "code",
      "source": [],
      "metadata": {
        "id": "NaptGRvQreNm"
      },
      "execution_count": null,
      "outputs": []
    }
  ]
}