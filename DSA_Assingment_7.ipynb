{
  "nbformat": 4,
  "nbformat_minor": 0,
  "metadata": {
    "colab": {
      "provenance": []
    },
    "kernelspec": {
      "name": "python3",
      "display_name": "Python 3"
    },
    "language_info": {
      "name": "python"
    }
  },
  "cells": [
    {
      "cell_type": "markdown",
      "source": [
        "## 1"
      ],
      "metadata": {
        "id": "ElHMZNfBJNSc"
      }
    },
    {
      "cell_type": "code",
      "source": [
        "def isIsomorphic(s, t):\n",
        "    if len(s) != len(t):\n",
        "        return False\n",
        "\n",
        "    s_to_t = {}\n",
        "    t_to_s = {}\n",
        "\n",
        "    for i in range(len(s)):\n",
        "        if s[i] in s_to_t and s_to_t[s[i]] != t[i]:\n",
        "            return False\n",
        "        if t[i] in t_to_s and t_to_s[t[i]] != s[i]:\n",
        "            return False\n",
        "        s_to_t[s[i]] = t[i]\n",
        "        t_to_s[t[i]] = s[i]\n",
        "\n",
        "    return True\n"
      ],
      "metadata": {
        "id": "JQOJ5Xo4JOHX"
      },
      "execution_count": 1,
      "outputs": []
    },
    {
      "cell_type": "code",
      "source": [
        "s1 = \"egg\"\n",
        "t1 = \"add\"\n",
        "print(isIsomorphic(s1, t1))\n",
        "\n",
        "s2 = \"foo\"\n",
        "t2 = \"bar\"\n",
        "print(isIsomorphic(s2, t2))\n",
        "\n",
        "s3 = \"paper\"\n",
        "t3 = \"title\"\n",
        "print(isIsomorphic(s3, t3))\n"
      ],
      "metadata": {
        "colab": {
          "base_uri": "https://localhost:8080/"
        },
        "id": "kT9eszK0JqUl",
        "outputId": "e4e13998-e6c6-4e0d-a293-36f35a970ece"
      },
      "execution_count": 2,
      "outputs": [
        {
          "output_type": "stream",
          "name": "stdout",
          "text": [
            "True\n",
            "False\n",
            "True\n"
          ]
        }
      ]
    },
    {
      "cell_type": "code",
      "source": [],
      "metadata": {
        "id": "eMioUGNQJwyl"
      },
      "execution_count": null,
      "outputs": []
    },
    {
      "cell_type": "markdown",
      "source": [
        "## 2"
      ],
      "metadata": {
        "id": "nRyyDdGUKH9L"
      }
    },
    {
      "cell_type": "code",
      "source": [
        "def isStrobogrammatic(num):\n",
        "    left = 0\n",
        "    right = len(num) - 1\n",
        "    while left <= right:\n",
        "        if num[left] == num[right] and num[left] in [\"0\", \"1\", \"8\"]:\n",
        "            left += 1\n",
        "            right -= 1\n",
        "        elif num[left:right+1] in [\"69\", \"96\"]:\n",
        "            left += 1\n",
        "            right -= 1\n",
        "        else:\n",
        "            return False\n",
        "    return True\n"
      ],
      "metadata": {
        "id": "oPQTiM7JKIqj"
      },
      "execution_count": 3,
      "outputs": []
    },
    {
      "cell_type": "code",
      "source": [
        "num1 = \"69\"\n",
        "print(isStrobogrammatic(num1))\n",
        "\n",
        "num2 = \"88\"\n",
        "print(isStrobogrammatic(num2))\n",
        "\n",
        "\n"
      ],
      "metadata": {
        "colab": {
          "base_uri": "https://localhost:8080/"
        },
        "id": "UzW8qeUYKJ1A",
        "outputId": "fc32c14f-2b12-43a0-89cf-e5bad0ba0570"
      },
      "execution_count": 4,
      "outputs": [
        {
          "output_type": "stream",
          "name": "stdout",
          "text": [
            "True\n",
            "True\n"
          ]
        }
      ]
    },
    {
      "cell_type": "code",
      "source": [],
      "metadata": {
        "id": "4oGdblIzKNzF"
      },
      "execution_count": null,
      "outputs": []
    },
    {
      "cell_type": "markdown",
      "source": [
        "## 3"
      ],
      "metadata": {
        "id": "n6zaLFITKt5F"
      }
    },
    {
      "cell_type": "code",
      "source": [
        "def addStrings(num1, num2):\n",
        "    i = len(num1) - 1\n",
        "    j = len(num2) - 1\n",
        "    carry = 0\n",
        "    result = \"\"\n",
        "\n",
        "    while i >= 0 or j >= 0:\n",
        "        digit1 = int(num1[i]) if i >= 0 else 0\n",
        "        digit2 = int(num2[j]) if j >= 0 else 0\n",
        "        digit_sum = digit1 + digit2 + carry\n",
        "        carry = digit_sum // 10\n",
        "        result = str(digit_sum % 10) + result\n",
        "        i -= 1\n",
        "        j -= 1\n",
        "\n",
        "    if carry > 0:\n",
        "        result = str(carry) + result\n",
        "\n",
        "    return result\n"
      ],
      "metadata": {
        "id": "2bW2fYj7KvIp"
      },
      "execution_count": 5,
      "outputs": []
    },
    {
      "cell_type": "code",
      "source": [
        "num1 = \"11\"\n",
        "num2 = \"123\"\n",
        "\n",
        "print(addStrings(num1, num2))\n"
      ],
      "metadata": {
        "colab": {
          "base_uri": "https://localhost:8080/"
        },
        "id": "WprnvC09KwIh",
        "outputId": "259a17c9-7949-40cc-cde8-e99cbcad3a6a"
      },
      "execution_count": 6,
      "outputs": [
        {
          "output_type": "stream",
          "name": "stdout",
          "text": [
            "134\n"
          ]
        }
      ]
    },
    {
      "cell_type": "code",
      "source": [],
      "metadata": {
        "id": "wln_xA9cKzA-"
      },
      "execution_count": null,
      "outputs": []
    },
    {
      "cell_type": "markdown",
      "source": [
        "## 4"
      ],
      "metadata": {
        "id": "VnGflUXNK0w6"
      }
    },
    {
      "cell_type": "code",
      "source": [
        "def reverseWords(s):\n",
        "    words = s.split()\n",
        "    for i in range(len(words)):\n",
        "        words[i] = words[i][::-1]\n",
        "    return \" \".join(words)\n"
      ],
      "metadata": {
        "id": "PwbCChuDK1w4"
      },
      "execution_count": 7,
      "outputs": []
    },
    {
      "cell_type": "code",
      "source": [
        "s = \"Let's reverse the words in this sentence\"\n",
        "print(reverseWords(s))\n"
      ],
      "metadata": {
        "colab": {
          "base_uri": "https://localhost:8080/"
        },
        "id": "kZvIzwTFLFtm",
        "outputId": "51981861-552c-4c99-f8f5-acabeec70b91"
      },
      "execution_count": 8,
      "outputs": [
        {
          "output_type": "stream",
          "name": "stdout",
          "text": [
            "s'teL esrever eht sdrow ni siht ecnetnes\n"
          ]
        }
      ]
    },
    {
      "cell_type": "code",
      "source": [],
      "metadata": {
        "id": "46U0XMMbLH_Y"
      },
      "execution_count": null,
      "outputs": []
    },
    {
      "cell_type": "markdown",
      "source": [
        "## 6"
      ],
      "metadata": {
        "id": "2ICz04feLK8g"
      }
    },
    {
      "cell_type": "code",
      "source": [
        "def rotateString(s, goal):\n",
        "    if len(s) != len(goal):\n",
        "        return False\n",
        "    concatenated = s + s\n",
        "    return goal in concatenated\n"
      ],
      "metadata": {
        "id": "Ib0HcfxxLMS6"
      },
      "execution_count": 12,
      "outputs": []
    },
    {
      "cell_type": "code",
      "source": [
        "s1 = \"abcde\"\n",
        "goal1 = \"bcdea\"\n",
        "print(rotateString(s1, goal1))\n",
        "\n",
        "s2 = \"abcde\"\n",
        "goal2 = \"cdeab\"\n",
        "print(rotateString(s2, goal2))\n",
        "\n",
        "s3 = \"abcde\"\n",
        "goal3 = \"abcde\"\n",
        "print(rotateString(s3, goal3))\n"
      ],
      "metadata": {
        "colab": {
          "base_uri": "https://localhost:8080/"
        },
        "id": "1PUZ6P2ML2Fr",
        "outputId": "a8c77a1e-92f7-4931-fdb8-92ede5ac2e65"
      },
      "execution_count": 13,
      "outputs": [
        {
          "output_type": "stream",
          "name": "stdout",
          "text": [
            "True\n",
            "True\n",
            "True\n"
          ]
        }
      ]
    },
    {
      "cell_type": "code",
      "source": [],
      "metadata": {
        "id": "cWjF5FKeL79s"
      },
      "execution_count": 13,
      "outputs": []
    },
    {
      "cell_type": "markdown",
      "source": [
        "## 5"
      ],
      "metadata": {
        "id": "eYd1V3SiL-tc"
      }
    },
    {
      "cell_type": "code",
      "source": [
        "def reverseStr(s, k):\n",
        "    s = list(s)\n",
        "    n = len(s)\n",
        "\n",
        "    for i in range(0, n, 2*k):\n",
        "        left = i\n",
        "        right = min(i + k - 1, n - 1)\n",
        "\n",
        "        while left < right:\n",
        "            s[left], s[right] = s[right], s[left]\n",
        "            left += 1\n",
        "            right -= 1\n",
        "\n",
        "    return ''.join(s)\n"
      ],
      "metadata": {
        "id": "iZYFLmdSL_zD"
      },
      "execution_count": 14,
      "outputs": []
    },
    {
      "cell_type": "code",
      "source": [
        "s = \"abcdefg\"\n",
        "k = 2\n",
        "print(reverseStr(s, k))  # Output: \"bacdfeg\"\n"
      ],
      "metadata": {
        "colab": {
          "base_uri": "https://localhost:8080/"
        },
        "id": "n_BPYtn4NA3k",
        "outputId": "b43c5e65-2416-4772-f609-8b690b81268b"
      },
      "execution_count": 15,
      "outputs": [
        {
          "output_type": "stream",
          "name": "stdout",
          "text": [
            "bacdfeg\n"
          ]
        }
      ]
    },
    {
      "cell_type": "code",
      "source": [],
      "metadata": {
        "id": "ffue0sWpNJnZ"
      },
      "execution_count": null,
      "outputs": []
    },
    {
      "cell_type": "markdown",
      "source": [
        "## 7"
      ],
      "metadata": {
        "id": "qgZNkqetNPng"
      }
    },
    {
      "cell_type": "code",
      "source": [
        "def backspaceCompare(s, t):\n",
        "    stack_s = []\n",
        "    stack_t = []\n",
        "\n",
        "    for char in s:\n",
        "        if char != '#':\n",
        "            stack_s.append(char)\n",
        "        elif stack_s:\n",
        "            stack_s.pop()\n",
        "\n",
        "    for char in t:\n",
        "        if char != '#':\n",
        "            stack_t.append(char)\n",
        "        elif stack_t:\n",
        "            stack_t.pop()\n",
        "\n",
        "    return stack_s == stack_t\n"
      ],
      "metadata": {
        "id": "L3SbN355NRMO"
      },
      "execution_count": 16,
      "outputs": []
    },
    {
      "cell_type": "code",
      "source": [
        "s1 = \"ab#c\"\n",
        "t1 = \"ad#c\"\n",
        "print(backspaceCompare(s1, t1))  # Output: True\n",
        "\n",
        "s2 = \"ab##\"\n",
        "t2 = \"c#d#\"\n",
        "print(backspaceCompare(s2, t2))  # Output: True\n",
        "\n"
      ],
      "metadata": {
        "colab": {
          "base_uri": "https://localhost:8080/"
        },
        "id": "LHbdCEs-NvRG",
        "outputId": "68f0c230-fd83-4c6d-baaa-0ef6b144a35d"
      },
      "execution_count": 17,
      "outputs": [
        {
          "output_type": "stream",
          "name": "stdout",
          "text": [
            "True\n",
            "True\n"
          ]
        }
      ]
    },
    {
      "cell_type": "code",
      "source": [],
      "metadata": {
        "id": "VWAQKQ3oNzzA"
      },
      "execution_count": null,
      "outputs": []
    },
    {
      "cell_type": "markdown",
      "source": [
        "## 8"
      ],
      "metadata": {
        "id": "0wJcFZ1FN_mV"
      }
    },
    {
      "cell_type": "code",
      "source": [
        "def checkStraightLine(coordinates):\n",
        "    x1, y1 = coordinates[0]\n",
        "    x2, y2 = coordinates[1]\n",
        "\n",
        "    if x2 - x1 != 0:\n",
        "        slope = (y2 - y1) / (x2 - x1)\n",
        "    else:\n",
        "        slope = float('inf')\n",
        "\n",
        "    for i in range(2, len(coordinates)):\n",
        "        x, y = coordinates[i]\n",
        "        if x - x2 != 0:\n",
        "            curr_slope = (y - y2) / (x - x2)\n",
        "        else:\n",
        "            curr_slope = float('inf')\n",
        "\n",
        "        if curr_slope != slope:\n",
        "            return False\n",
        "\n",
        "    return True\n"
      ],
      "metadata": {
        "id": "EiKapO3hOAgy"
      },
      "execution_count": 18,
      "outputs": []
    },
    {
      "cell_type": "code",
      "source": [
        "coordinates1 = [[1,2],[2,3],[3,4],[4,5],[5,6],[6,7]]\n",
        "print(checkStraightLine(coordinates1))\n",
        "\n",
        "coordinates2 = [[1,1],[2,2],[3,4],[4,5],[5,6],[7,7]]\n",
        "print(checkStraightLine(coordinates2))\n"
      ],
      "metadata": {
        "colab": {
          "base_uri": "https://localhost:8080/"
        },
        "id": "U2XTHNaUOIqm",
        "outputId": "f9b936a5-6001-4e69-e36b-53e084549cb6"
      },
      "execution_count": 19,
      "outputs": [
        {
          "output_type": "stream",
          "name": "stdout",
          "text": [
            "True\n",
            "False\n"
          ]
        }
      ]
    },
    {
      "cell_type": "code",
      "source": [],
      "metadata": {
        "id": "aqhnJMTwOSJ1"
      },
      "execution_count": null,
      "outputs": []
    }
  ]
}