{
  "nbformat": 4,
  "nbformat_minor": 0,
  "metadata": {
    "colab": {
      "provenance": []
    },
    "kernelspec": {
      "name": "python3",
      "display_name": "Python 3"
    },
    "language_info": {
      "name": "python"
    }
  },
  "cells": [
    {
      "cell_type": "markdown",
      "source": [
        "## 1"
      ],
      "metadata": {
        "id": "UUXM5TBnCS9F"
      }
    },
    {
      "cell_type": "code",
      "source": [
        "def findPermutation(s):\n",
        "    n = len(s)\n",
        "    perm = [0] * (n + 1)\n",
        "    low, high = 0, n\n",
        "\n",
        "    for i, c in enumerate(s):\n",
        "        if c == 'I':\n",
        "            perm[i] = high\n",
        "            high -= 1\n",
        "        else:\n",
        "            perm[i] = low\n",
        "            low += 1\n",
        "\n",
        "    perm[n] = low  # or perm[n] = high\n",
        "\n",
        "    return perm\n"
      ],
      "metadata": {
        "id": "t-GfJ4cyCUWg"
      },
      "execution_count": 1,
      "outputs": []
    },
    {
      "cell_type": "code",
      "source": [
        "s = \"IDID\"\n",
        "perm = findPermutation(s)\n",
        "print(perm)\n"
      ],
      "metadata": {
        "colab": {
          "base_uri": "https://localhost:8080/"
        },
        "id": "LoWOEWIfC-9c",
        "outputId": "410215bb-76cb-4d55-e2d7-9ae441fd656a"
      },
      "execution_count": 2,
      "outputs": [
        {
          "output_type": "stream",
          "name": "stdout",
          "text": [
            "[4, 0, 3, 1, 2]\n"
          ]
        }
      ]
    },
    {
      "cell_type": "code",
      "source": [],
      "metadata": {
        "id": "oXN5fRZpDANI"
      },
      "execution_count": null,
      "outputs": []
    },
    {
      "cell_type": "markdown",
      "source": [
        "## 2"
      ],
      "metadata": {
        "id": "jTRikahaDGJg"
      }
    },
    {
      "cell_type": "code",
      "source": [
        "def searchMatrix(matrix, target):\n",
        "    m = len(matrix)\n",
        "    n = len(matrix[0]) if m > 0 else 0\n",
        "\n",
        "    left = 0\n",
        "    right = m * n - 1\n",
        "\n",
        "    while left <= right:\n",
        "        mid = (left + right) // 2\n",
        "        row = mid // n\n",
        "        col = mid % n\n",
        "        if matrix[row][col] == target:\n",
        "            return True\n",
        "        elif matrix[row][col] < target:\n",
        "            left = mid + 1\n",
        "        else:\n",
        "            right = mid - 1\n",
        "\n",
        "    return False\n"
      ],
      "metadata": {
        "id": "WGQ3a1fXDG-j"
      },
      "execution_count": 3,
      "outputs": []
    },
    {
      "cell_type": "code",
      "source": [
        "matrix = [\n",
        "    [1, 3, 5, 7],\n",
        "    [10, 11, 16, 20],\n",
        "    [23, 30, 34, 60]\n",
        "]\n",
        "target = 3\n",
        "\n",
        "result = searchMatrix(matrix, target)\n",
        "print(result)\n"
      ],
      "metadata": {
        "colab": {
          "base_uri": "https://localhost:8080/"
        },
        "id": "x1zXnVbpDZWr",
        "outputId": "4480b218-45ea-4cc7-d873-22eccc36f88e"
      },
      "execution_count": 4,
      "outputs": [
        {
          "output_type": "stream",
          "name": "stdout",
          "text": [
            "True\n"
          ]
        }
      ]
    },
    {
      "cell_type": "code",
      "source": [],
      "metadata": {
        "id": "IHoBhj0EDbtj"
      },
      "execution_count": null,
      "outputs": []
    },
    {
      "cell_type": "markdown",
      "source": [
        "## 3"
      ],
      "metadata": {
        "id": "hKq8HDvfDerF"
      }
    },
    {
      "cell_type": "code",
      "source": [
        "def validMountainArray(arr):\n",
        "    n = len(arr)\n",
        "    if n < 3:\n",
        "        return False\n",
        "\n",
        "    i = 0\n",
        "    while i+1 < n and arr[i] < arr[i+1]:\n",
        "        i += 1\n",
        "\n",
        "    if i == 0 or i == n-1:\n",
        "        return False\n",
        "\n",
        "    while i+1 < n and arr[i] > arr[i+1]:\n",
        "        i += 1\n",
        "\n",
        "    return i == n-1\n"
      ],
      "metadata": {
        "id": "n5ZOief6Dfp-"
      },
      "execution_count": 5,
      "outputs": []
    },
    {
      "cell_type": "code",
      "source": [
        "arr = [0, 3, 2, 1]\n",
        "result = validMountainArray(arr)\n",
        "print(result)\n"
      ],
      "metadata": {
        "colab": {
          "base_uri": "https://localhost:8080/"
        },
        "id": "_L6eJWd1EaHo",
        "outputId": "187f972e-b5b0-4d8a-8932-94ec36aadbe2"
      },
      "execution_count": 6,
      "outputs": [
        {
          "output_type": "stream",
          "name": "stdout",
          "text": [
            "True\n"
          ]
        }
      ]
    },
    {
      "cell_type": "markdown",
      "source": [
        "## 4"
      ],
      "metadata": {
        "id": "W71geoasElQV"
      }
    },
    {
      "cell_type": "code",
      "source": [
        "def findMaxLength(nums):\n",
        "    max_len = 0\n",
        "    count = 0\n",
        "    counts = {0: -1}\n",
        "\n",
        "    for i, num in enumerate(nums):\n",
        "        count += 1 if num == 1 else -1\n",
        "\n",
        "        if count in counts:\n",
        "            max_len = max(max_len, i - counts[count])\n",
        "        else:\n",
        "            counts[count] = i\n",
        "\n",
        "    return max_len\n"
      ],
      "metadata": {
        "id": "m9FQbprtEmPh"
      },
      "execution_count": 7,
      "outputs": []
    },
    {
      "cell_type": "code",
      "source": [
        "nums = [0, 1]\n",
        "result = findMaxLength(nums)\n",
        "print(result)\n"
      ],
      "metadata": {
        "colab": {
          "base_uri": "https://localhost:8080/"
        },
        "id": "PGZ1UmBWFEgg",
        "outputId": "480324d8-d822-448f-cbb0-26098a4ddd9d"
      },
      "execution_count": 8,
      "outputs": [
        {
          "output_type": "stream",
          "name": "stdout",
          "text": [
            "2\n"
          ]
        }
      ]
    },
    {
      "cell_type": "code",
      "source": [],
      "metadata": {
        "id": "nTPyvsXFFG4d"
      },
      "execution_count": null,
      "outputs": []
    },
    {
      "cell_type": "markdown",
      "source": [
        "## 5"
      ],
      "metadata": {
        "id": "eV81WY0SFJk6"
      }
    },
    {
      "cell_type": "code",
      "source": [
        "def minProductSum(nums1, nums2):\n",
        "    nums1.sort()\n",
        "    nums2.sort(reverse=True)\n",
        "\n",
        "    min_product_sum = 0\n",
        "    n = len(nums1)\n",
        "\n",
        "    for i in range(n):\n",
        "        min_product_sum += nums1[i] * nums2[n - i - 1]\n",
        "\n",
        "    return min_product_sum\n"
      ],
      "metadata": {
        "id": "QlI8OQ9MFKxl"
      },
      "execution_count": 11,
      "outputs": []
    },
    {
      "cell_type": "code",
      "source": [
        "nums1 = [5, 3, 4, 2]\n",
        "nums2 = [4, 2, 2, 5]\n",
        "\n",
        "result = minProductSum(nums1, nums2)\n",
        "print(result)\n"
      ],
      "metadata": {
        "colab": {
          "base_uri": "https://localhost:8080/"
        },
        "id": "YuAtOqAPGQny",
        "outputId": "be4b2590-896b-469f-ce0f-682f6465a636"
      },
      "execution_count": 12,
      "outputs": [
        {
          "output_type": "stream",
          "name": "stdout",
          "text": [
            "51\n"
          ]
        }
      ]
    },
    {
      "cell_type": "code",
      "source": [],
      "metadata": {
        "id": "8AbA8uChGTB1"
      },
      "execution_count": null,
      "outputs": []
    },
    {
      "cell_type": "markdown",
      "source": [
        "## 6"
      ],
      "metadata": {
        "id": "dEVz43ElGdOl"
      }
    },
    {
      "cell_type": "code",
      "source": [
        "def findOriginalArray(changed):\n",
        "    changed.sort()\n",
        "    original = []\n",
        "\n",
        "    for num in changed:\n",
        "        if num/2 not in original:\n",
        "            return []\n",
        "        original.remove(num/2)\n",
        "        original.append(num/2)\n",
        "\n",
        "    return original\n"
      ],
      "metadata": {
        "id": "SgUJbrDJGeSD"
      },
      "execution_count": 13,
      "outputs": []
    },
    {
      "cell_type": "code",
      "source": [
        "changed = [1, 3, 4, 2, 6, 8]\n",
        "result = findOriginalArray(changed)\n",
        "print(result)\n"
      ],
      "metadata": {
        "colab": {
          "base_uri": "https://localhost:8080/"
        },
        "id": "ftBc_k4BHMXK",
        "outputId": "b06562a1-90b5-4a9d-814f-2db184279a78"
      },
      "execution_count": 14,
      "outputs": [
        {
          "output_type": "stream",
          "name": "stdout",
          "text": [
            "[]\n"
          ]
        }
      ]
    },
    {
      "cell_type": "code",
      "source": [],
      "metadata": {
        "id": "eEMyUILkHOz1"
      },
      "execution_count": null,
      "outputs": []
    },
    {
      "cell_type": "markdown",
      "source": [
        "## 7"
      ],
      "metadata": {
        "id": "jvZNS4i2HUMc"
      }
    },
    {
      "cell_type": "code",
      "source": [
        "def generateMatrix(n):\n",
        "    matrix = [[0] * n for _ in range(n)]\n",
        "    start_row, end_row = 0, n - 1\n",
        "    start_col, end_col = 0, n - 1\n",
        "    num = 1\n",
        "\n",
        "    while num <= n*n:\n",
        "        for i in range(start_col, end_col + 1):\n",
        "            matrix[start_row][i] = num\n",
        "            num += 1\n",
        "        start_row += 1\n",
        "\n",
        "        for i in range(start_row, end_row + 1):\n",
        "            matrix[i][end_col] = num\n",
        "            num += 1\n",
        "        end_col -= 1\n",
        "\n",
        "        if start_row <= end_row:\n",
        "            for i in range(end_col, start_col - 1, -1):\n",
        "                matrix[end_row][i] = num\n",
        "                num += 1\n",
        "            end_row -= 1\n",
        "\n",
        "        if start_col <= end_col:\n",
        "            for i in range(end_row, start_row - 1, -1):\n",
        "                matrix[i][start_col] = num\n",
        "                num += 1\n",
        "            start_col += 1\n",
        "\n",
        "    return matrix\n"
      ],
      "metadata": {
        "id": "nMpT5N-DHVfY"
      },
      "execution_count": 15,
      "outputs": []
    },
    {
      "cell_type": "code",
      "source": [
        "n = 3\n",
        "result = generateMatrix(n)\n",
        "for row in result:\n",
        "    print(row)\n"
      ],
      "metadata": {
        "colab": {
          "base_uri": "https://localhost:8080/"
        },
        "id": "0GE4KZthH12l",
        "outputId": "b857270a-ba88-4fb2-9dfa-054bdf1fb2e7"
      },
      "execution_count": 16,
      "outputs": [
        {
          "output_type": "stream",
          "name": "stdout",
          "text": [
            "[1, 2, 3]\n",
            "[8, 9, 4]\n",
            "[7, 6, 5]\n"
          ]
        }
      ]
    },
    {
      "cell_type": "code",
      "source": [],
      "metadata": {
        "id": "2IztPcYCH5GK"
      },
      "execution_count": null,
      "outputs": []
    },
    {
      "cell_type": "markdown",
      "source": [
        "## 8"
      ],
      "metadata": {
        "id": "n_RBQcG_Icx9"
      }
    },
    {
      "cell_type": "code",
      "source": [
        "def multiply(mat1, mat2):\n",
        "    m = len(mat1)\n",
        "    k = len(mat1[0])\n",
        "    n = len(mat2[0])\n",
        "\n",
        "    result = [[0] * n for _ in range(m)]\n",
        "\n",
        "    for i in range(m):\n",
        "        for j in range(n):\n",
        "            sum = 0\n",
        "            for p in range(k):\n",
        "                if mat1[i][p] != 0 and mat2[p][j] != 0:\n",
        "                    sum += mat1[i][p] * mat2[p][j]\n",
        "            result[i][j] = sum\n",
        "\n",
        "    return result\n"
      ],
      "metadata": {
        "id": "MNYNn7oSId2E"
      },
      "execution_count": 17,
      "outputs": []
    },
    {
      "cell_type": "code",
      "source": [
        "mat1 = [[1, 0, 0], [-1, 0, 3]]\n",
        "mat2 = [[7, 0, 0], [0, 0, 0], [0, 0, 1]]\n",
        "\n",
        "result = multiply(mat1, mat2)\n",
        "for row in result:\n",
        "    print(row)\n"
      ],
      "metadata": {
        "colab": {
          "base_uri": "https://localhost:8080/"
        },
        "id": "NIAGBaRfIfPu",
        "outputId": "7a702b82-117f-4700-de10-608a219dddc3"
      },
      "execution_count": 18,
      "outputs": [
        {
          "output_type": "stream",
          "name": "stdout",
          "text": [
            "[7, 0, 0]\n",
            "[-7, 0, 3]\n"
          ]
        }
      ]
    }
  ]
}